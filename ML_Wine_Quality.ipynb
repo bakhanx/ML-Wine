{
  "nbformat": 4,
  "nbformat_minor": 0,
  "metadata": {
    "colab": {
      "name": "20165172_박한솔_머신러닝_Project2.ipynb",
      "provenance": [],
      "collapsed_sections": [],
      "toc_visible": true
    },
    "kernelspec": {
      "name": "python3",
      "display_name": "Python 3"
    }
  },
  "cells": [
    {
      "cell_type": "markdown",
      "metadata": {
        "id": "rhSglKpJx-Kh"
      },
      "source": [
        "# 20165172 빅데이터 박한솔 기말 Project 자유주제"
      ]
    },
    {
      "cell_type": "markdown",
      "metadata": {
        "id": "_hHxL78DyCkl"
      },
      "source": [
        "**기말 Project2 : Wine-Quality and scikit_learn** <br>\n",
        "Wine Quality 데이터 학습, 평가(교차검증) <br>\n",
        "1) 목적 : Wine Quality데이터를 가지고 (SVM / DecisionTree / RandomForest) 분류기를 이용하여 와인의 퀄리티를 예측, 학습, 평가한다 <br>\n",
        "2) 내용 및 방법 : 데이터 읽기 및 분석, 모델 성능평가<br>\n",
        "3) 결과 : 성능 비교 후 우수 분류기 파라미터 튜닝 및 결과 분석<br>\n",
        "* 성능 비교표\n",
        "* 파라미터 튜닝\n",
        "* ROC Curve\n",
        "* Classification Report\n",
        "* cut-off\n",
        "* Importance"
      ]
    },
    {
      "cell_type": "markdown",
      "metadata": {
        "id": "derA8-Mfycnp"
      },
      "source": [
        "#설정"
      ]
    },
    {
      "cell_type": "markdown",
      "metadata": {
        "id": "wB081c6raexQ"
      },
      "source": [
        "먼저 몇 개의 모듈을 임포트합니다. 맷플롯립 그래프를 인라인으로 출력하도록 만들고 그림을 저장하는 함수를 준비합니다. 또한 파이썬 버전이 3.5 이상인지 확인합니다(파이썬 2.x에서도 동작하지만 곧 지원이 중단되므로 파이썬 3을 사용하는 것이 좋습니다). 사이킷런 버전이 0.20 이상인지도 확인합니다."
      ]
    },
    {
      "cell_type": "code",
      "metadata": {
        "id": "RgC6LerxaexR"
      },
      "source": [
        "# 파이썬 ≥3.5 필수\n",
        "import sys\n",
        "assert sys.version_info >= (3, 5)\n",
        "\n",
        "# 사이킷런 ≥0.20 필수\n",
        "import sklearn\n",
        "assert sklearn.__version__ >= \"0.20\"\n",
        "\n",
        "# 공통 모듈 임포트\n",
        "import numpy as np\n",
        "import os\n",
        "\n",
        "# 노트북 실행 결과를 동일하게 유지하기 위해\n",
        "np.random.seed(42)\n",
        "\n",
        "# 깔끔한 그래프 출력을 위해\n",
        "%matplotlib inline\n",
        "import matplotlib as mpl\n",
        "import matplotlib.pyplot as plt\n",
        "mpl.rc('axes', labelsize=14)\n",
        "mpl.rc('xtick', labelsize=12)\n",
        "mpl.rc('ytick', labelsize=12)\n",
        "\n",
        "# 그림을 저장할 위치\n",
        "PROJECT_ROOT_DIR = \".\"\n",
        "CHAPTER_ID = \"classification\"\n",
        "IMAGES_PATH = os.path.join(PROJECT_ROOT_DIR, \"images\", CHAPTER_ID)\n",
        "os.makedirs(IMAGES_PATH, exist_ok=True)\n",
        "\n",
        "def save_fig(fig_id, tight_layout=True, fig_extension=\"png\", resolution=300):\n",
        "    path = os.path.join(IMAGES_PATH, fig_id + \".\" + fig_extension)\n",
        "    print(\"그림 저장:\", fig_id)\n",
        "    if tight_layout:\n",
        "        plt.tight_layout()\n",
        "    plt.savefig(path, format=fig_extension, dpi=resolution)"
      ],
      "execution_count": 1,
      "outputs": []
    },
    {
      "cell_type": "markdown",
      "metadata": {
        "id": "MplR98P184wG"
      },
      "source": [
        "#데이터 읽기 및 분석"
      ]
    },
    {
      "cell_type": "code",
      "metadata": {
        "id": "i5X2C1GIzR6u"
      },
      "source": [
        "import pandas as pd"
      ],
      "execution_count": 2,
      "outputs": []
    },
    {
      "cell_type": "code",
      "metadata": {
        "id": "X7Nbmo5MJezM"
      },
      "source": [
        "DF = pd.read_csv(\"winequality-red.csv\") # 전체 테이블을 위한"
      ],
      "execution_count": 6,
      "outputs": []
    },
    {
      "cell_type": "code",
      "metadata": {
        "colab": {
          "base_uri": "https://localhost:8080/",
          "height": 436
        },
        "id": "4joeJpVvxdQh",
        "outputId": "04035f03-2083-474a-84c6-b706bee0566b"
      },
      "source": [
        "WQ = pd.read_csv(\"winequality-red.csv\")\n",
        "WQ"
      ],
      "execution_count": 7,
      "outputs": [
        {
          "output_type": "execute_result",
          "data": {
            "text/html": [
              "<div>\n",
              "<style scoped>\n",
              "    .dataframe tbody tr th:only-of-type {\n",
              "        vertical-align: middle;\n",
              "    }\n",
              "\n",
              "    .dataframe tbody tr th {\n",
              "        vertical-align: top;\n",
              "    }\n",
              "\n",
              "    .dataframe thead th {\n",
              "        text-align: right;\n",
              "    }\n",
              "</style>\n",
              "<table border=\"1\" class=\"dataframe\">\n",
              "  <thead>\n",
              "    <tr style=\"text-align: right;\">\n",
              "      <th></th>\n",
              "      <th>fixed acidity</th>\n",
              "      <th>volatile acidity</th>\n",
              "      <th>citric acid</th>\n",
              "      <th>residual sugar</th>\n",
              "      <th>chlorides</th>\n",
              "      <th>free sulfur dioxide</th>\n",
              "      <th>total sulfur dioxide</th>\n",
              "      <th>density</th>\n",
              "      <th>pH</th>\n",
              "      <th>sulphates</th>\n",
              "      <th>alcohol</th>\n",
              "      <th>quality</th>\n",
              "    </tr>\n",
              "  </thead>\n",
              "  <tbody>\n",
              "    <tr>\n",
              "      <th>0</th>\n",
              "      <td>7.4</td>\n",
              "      <td>0.700</td>\n",
              "      <td>0.00</td>\n",
              "      <td>1.9</td>\n",
              "      <td>0.076</td>\n",
              "      <td>11.0</td>\n",
              "      <td>34.0</td>\n",
              "      <td>0.99780</td>\n",
              "      <td>3.51</td>\n",
              "      <td>0.56</td>\n",
              "      <td>9.4</td>\n",
              "      <td>5</td>\n",
              "    </tr>\n",
              "    <tr>\n",
              "      <th>1</th>\n",
              "      <td>7.8</td>\n",
              "      <td>0.880</td>\n",
              "      <td>0.00</td>\n",
              "      <td>2.6</td>\n",
              "      <td>0.098</td>\n",
              "      <td>25.0</td>\n",
              "      <td>67.0</td>\n",
              "      <td>0.99680</td>\n",
              "      <td>3.20</td>\n",
              "      <td>0.68</td>\n",
              "      <td>9.8</td>\n",
              "      <td>5</td>\n",
              "    </tr>\n",
              "    <tr>\n",
              "      <th>2</th>\n",
              "      <td>7.8</td>\n",
              "      <td>0.760</td>\n",
              "      <td>0.04</td>\n",
              "      <td>2.3</td>\n",
              "      <td>0.092</td>\n",
              "      <td>15.0</td>\n",
              "      <td>54.0</td>\n",
              "      <td>0.99700</td>\n",
              "      <td>3.26</td>\n",
              "      <td>0.65</td>\n",
              "      <td>9.8</td>\n",
              "      <td>5</td>\n",
              "    </tr>\n",
              "    <tr>\n",
              "      <th>3</th>\n",
              "      <td>11.2</td>\n",
              "      <td>0.280</td>\n",
              "      <td>0.56</td>\n",
              "      <td>1.9</td>\n",
              "      <td>0.075</td>\n",
              "      <td>17.0</td>\n",
              "      <td>60.0</td>\n",
              "      <td>0.99800</td>\n",
              "      <td>3.16</td>\n",
              "      <td>0.58</td>\n",
              "      <td>9.8</td>\n",
              "      <td>6</td>\n",
              "    </tr>\n",
              "    <tr>\n",
              "      <th>4</th>\n",
              "      <td>7.4</td>\n",
              "      <td>0.700</td>\n",
              "      <td>0.00</td>\n",
              "      <td>1.9</td>\n",
              "      <td>0.076</td>\n",
              "      <td>11.0</td>\n",
              "      <td>34.0</td>\n",
              "      <td>0.99780</td>\n",
              "      <td>3.51</td>\n",
              "      <td>0.56</td>\n",
              "      <td>9.4</td>\n",
              "      <td>5</td>\n",
              "    </tr>\n",
              "    <tr>\n",
              "      <th>...</th>\n",
              "      <td>...</td>\n",
              "      <td>...</td>\n",
              "      <td>...</td>\n",
              "      <td>...</td>\n",
              "      <td>...</td>\n",
              "      <td>...</td>\n",
              "      <td>...</td>\n",
              "      <td>...</td>\n",
              "      <td>...</td>\n",
              "      <td>...</td>\n",
              "      <td>...</td>\n",
              "      <td>...</td>\n",
              "    </tr>\n",
              "    <tr>\n",
              "      <th>1594</th>\n",
              "      <td>6.2</td>\n",
              "      <td>0.600</td>\n",
              "      <td>0.08</td>\n",
              "      <td>2.0</td>\n",
              "      <td>0.090</td>\n",
              "      <td>32.0</td>\n",
              "      <td>44.0</td>\n",
              "      <td>0.99490</td>\n",
              "      <td>3.45</td>\n",
              "      <td>0.58</td>\n",
              "      <td>10.5</td>\n",
              "      <td>5</td>\n",
              "    </tr>\n",
              "    <tr>\n",
              "      <th>1595</th>\n",
              "      <td>5.9</td>\n",
              "      <td>0.550</td>\n",
              "      <td>0.10</td>\n",
              "      <td>2.2</td>\n",
              "      <td>0.062</td>\n",
              "      <td>39.0</td>\n",
              "      <td>51.0</td>\n",
              "      <td>0.99512</td>\n",
              "      <td>3.52</td>\n",
              "      <td>0.76</td>\n",
              "      <td>11.2</td>\n",
              "      <td>6</td>\n",
              "    </tr>\n",
              "    <tr>\n",
              "      <th>1596</th>\n",
              "      <td>6.3</td>\n",
              "      <td>0.510</td>\n",
              "      <td>0.13</td>\n",
              "      <td>2.3</td>\n",
              "      <td>0.076</td>\n",
              "      <td>29.0</td>\n",
              "      <td>40.0</td>\n",
              "      <td>0.99574</td>\n",
              "      <td>3.42</td>\n",
              "      <td>0.75</td>\n",
              "      <td>11.0</td>\n",
              "      <td>6</td>\n",
              "    </tr>\n",
              "    <tr>\n",
              "      <th>1597</th>\n",
              "      <td>5.9</td>\n",
              "      <td>0.645</td>\n",
              "      <td>0.12</td>\n",
              "      <td>2.0</td>\n",
              "      <td>0.075</td>\n",
              "      <td>32.0</td>\n",
              "      <td>44.0</td>\n",
              "      <td>0.99547</td>\n",
              "      <td>3.57</td>\n",
              "      <td>0.71</td>\n",
              "      <td>10.2</td>\n",
              "      <td>5</td>\n",
              "    </tr>\n",
              "    <tr>\n",
              "      <th>1598</th>\n",
              "      <td>6.0</td>\n",
              "      <td>0.310</td>\n",
              "      <td>0.47</td>\n",
              "      <td>3.6</td>\n",
              "      <td>0.067</td>\n",
              "      <td>18.0</td>\n",
              "      <td>42.0</td>\n",
              "      <td>0.99549</td>\n",
              "      <td>3.39</td>\n",
              "      <td>0.66</td>\n",
              "      <td>11.0</td>\n",
              "      <td>6</td>\n",
              "    </tr>\n",
              "  </tbody>\n",
              "</table>\n",
              "<p>1599 rows × 12 columns</p>\n",
              "</div>"
            ],
            "text/plain": [
              "      fixed acidity  volatile acidity  citric acid  ...  sulphates  alcohol  quality\n",
              "0               7.4             0.700         0.00  ...       0.56      9.4        5\n",
              "1               7.8             0.880         0.00  ...       0.68      9.8        5\n",
              "2               7.8             0.760         0.04  ...       0.65      9.8        5\n",
              "3              11.2             0.280         0.56  ...       0.58      9.8        6\n",
              "4               7.4             0.700         0.00  ...       0.56      9.4        5\n",
              "...             ...               ...          ...  ...        ...      ...      ...\n",
              "1594            6.2             0.600         0.08  ...       0.58     10.5        5\n",
              "1595            5.9             0.550         0.10  ...       0.76     11.2        6\n",
              "1596            6.3             0.510         0.13  ...       0.75     11.0        6\n",
              "1597            5.9             0.645         0.12  ...       0.71     10.2        5\n",
              "1598            6.0             0.310         0.47  ...       0.66     11.0        6\n",
              "\n",
              "[1599 rows x 12 columns]"
            ]
          },
          "metadata": {
            "tags": []
          },
          "execution_count": 7
        }
      ]
    },
    {
      "cell_type": "code",
      "metadata": {
        "colab": {
          "base_uri": "https://localhost:8080/"
        },
        "id": "HALmYURX3clm",
        "outputId": "c2d24fad-6645-4435-88b3-54b6bf5789ab"
      },
      "source": [
        "#결측치 확인\n",
        "WQ.info()"
      ],
      "execution_count": null,
      "outputs": [
        {
          "output_type": "stream",
          "text": [
            "<class 'pandas.core.frame.DataFrame'>\n",
            "RangeIndex: 1599 entries, 0 to 1598\n",
            "Data columns (total 12 columns):\n",
            " #   Column                Non-Null Count  Dtype  \n",
            "---  ------                --------------  -----  \n",
            " 0   fixed acidity         1599 non-null   float64\n",
            " 1   volatile acidity      1599 non-null   float64\n",
            " 2   citric acid           1599 non-null   float64\n",
            " 3   residual sugar        1599 non-null   float64\n",
            " 4   chlorides             1599 non-null   float64\n",
            " 5   free sulfur dioxide   1599 non-null   float64\n",
            " 6   total sulfur dioxide  1599 non-null   float64\n",
            " 7   density               1599 non-null   float64\n",
            " 8   pH                    1599 non-null   float64\n",
            " 9   sulphates             1599 non-null   float64\n",
            " 10  alcohol               1599 non-null   float64\n",
            " 11  quality               1599 non-null   int64  \n",
            "dtypes: float64(11), int64(1)\n",
            "memory usage: 150.0 KB\n"
          ],
          "name": "stdout"
        }
      ]
    },
    {
      "cell_type": "markdown",
      "metadata": {
        "id": "FYDfocsO25C_"
      },
      "source": [
        "* Input variables (based on physicochemical tests):<br>\n",
        "1 - fixed acidity (고정 산도) <br>\n",
        "2 - volatile acidity (휘발성 산도)<br>\n",
        "3 - citric acid (구연산)<br>\n",
        "4 - residual sugar (잔류 설탕)<br>\n",
        "5 - chlorides (염화물)<br>\n",
        "6 - free sulfur dioxide (유리 이산화황)<br>\n",
        "7 - total sulfur dioxide (총 이산화황)<br>\n",
        "8 - density (밀도)<br>\n",
        "9 - pH<br>\n",
        "10 - sulphates (황산염)<br>\n",
        "11 - alcohol (알코올)<br>\n",
        "<br>\n",
        "* Output variable (based on sensory data):<br>\n",
        "12 - quality (score between 0 and 10)"
      ]
    },
    {
      "cell_type": "markdown",
      "metadata": {
        "id": "WloBTK4pCPhL"
      },
      "source": [
        "상관관계 확인"
      ]
    },
    {
      "cell_type": "code",
      "metadata": {
        "id": "Bk84sX8WA2pf"
      },
      "source": [
        "import matplotlib.pyplot as plt\n",
        "import seaborn as sns"
      ],
      "execution_count": null,
      "outputs": []
    },
    {
      "cell_type": "code",
      "metadata": {
        "colab": {
          "base_uri": "https://localhost:8080/",
          "height": 718
        },
        "id": "n1TaY18q_8kL",
        "outputId": "78105180-4a29-49f4-e784-28f9ce38f739"
      },
      "source": [
        "corr = WQ.corr()\n",
        "plt.subplots (figsize= (15,10))\n",
        "sns.heatmap(corr, xticklabels = corr.columns, yticklabels= corr.columns, annot = True, cmap='YlGnBu')"
      ],
      "execution_count": null,
      "outputs": [
        {
          "output_type": "execute_result",
          "data": {
            "text/plain": [
              "<matplotlib.axes._subplots.AxesSubplot at 0x7fcd997097b8>"
            ]
          },
          "metadata": {
            "tags": []
          },
          "execution_count": 184
        },
        {
          "output_type": "display_data",
          "data": {
            "image/png": "[encoded data removed]",
            "text/plain": [
              "<Figure size 1080x720 with 2 Axes>"
            ]
          },
          "metadata": {
            "tags": [],
            "needs_background": "light"
          }
        }
      ]
    },
    {
      "cell_type": "code",
      "metadata": {
        "colab": {
          "base_uri": "https://localhost:8080/"
        },
        "id": "W9iiMoXd5CqR",
        "outputId": "00a566d1-9bcf-4add-c907-53004a75190c"
      },
      "source": [
        "y = WQ.pop('quality')\n",
        "y"
      ],
      "execution_count": 8,
      "outputs": [
        {
          "output_type": "execute_result",
          "data": {
            "text/plain": [
              "0       5\n",
              "1       5\n",
              "2       5\n",
              "3       6\n",
              "4       5\n",
              "       ..\n",
              "1594    5\n",
              "1595    6\n",
              "1596    6\n",
              "1597    5\n",
              "1598    6\n",
              "Name: quality, Length: 1599, dtype: int64"
            ]
          },
          "metadata": {
            "tags": []
          },
          "execution_count": 8
        }
      ]
    },
    {
      "cell_type": "markdown",
      "metadata": {
        "id": "ZzZV-woivpmV"
      },
      "source": [
        "kaggle 데이터에서 권장한 y>=7 경우 1로 이진 분류 설정"
      ]
    },
    {
      "cell_type": "code",
      "metadata": {
        "id": "otMgMvcBpoCr"
      },
      "source": [
        "y = np.asarray([1 if i>=7 else 0 for i in y])"
      ],
      "execution_count": 9,
      "outputs": []
    },
    {
      "cell_type": "code",
      "metadata": {
        "colab": {
          "base_uri": "https://localhost:8080/",
          "height": 436
        },
        "id": "rCPeu_l96HgL",
        "outputId": "bb293217-fc32-49a7-ca43-4f4a3e0bbece"
      },
      "source": [
        "X = WQ\n",
        "WQ"
      ],
      "execution_count": 10,
      "outputs": [
        {
          "output_type": "execute_result",
          "data": {
            "text/html": [
              "<div>\n",
              "<style scoped>\n",
              "    .dataframe tbody tr th:only-of-type {\n",
              "        vertical-align: middle;\n",
              "    }\n",
              "\n",
              "    .dataframe tbody tr th {\n",
              "        vertical-align: top;\n",
              "    }\n",
              "\n",
              "    .dataframe thead th {\n",
              "        text-align: right;\n",
              "    }\n",
              "</style>\n",
              "<table border=\"1\" class=\"dataframe\">\n",
              "  <thead>\n",
              "    <tr style=\"text-align: right;\">\n",
              "      <th></th>\n",
              "      <th>fixed acidity</th>\n",
              "      <th>volatile acidity</th>\n",
              "      <th>citric acid</th>\n",
              "      <th>residual sugar</th>\n",
              "      <th>chlorides</th>\n",
              "      <th>free sulfur dioxide</th>\n",
              "      <th>total sulfur dioxide</th>\n",
              "      <th>density</th>\n",
              "      <th>pH</th>\n",
              "      <th>sulphates</th>\n",
              "      <th>alcohol</th>\n",
              "    </tr>\n",
              "  </thead>\n",
              "  <tbody>\n",
              "    <tr>\n",
              "      <th>0</th>\n",
              "      <td>7.4</td>\n",
              "      <td>0.700</td>\n",
              "      <td>0.00</td>\n",
              "      <td>1.9</td>\n",
              "      <td>0.076</td>\n",
              "      <td>11.0</td>\n",
              "      <td>34.0</td>\n",
              "      <td>0.99780</td>\n",
              "      <td>3.51</td>\n",
              "      <td>0.56</td>\n",
              "      <td>9.4</td>\n",
              "    </tr>\n",
              "    <tr>\n",
              "      <th>1</th>\n",
              "      <td>7.8</td>\n",
              "      <td>0.880</td>\n",
              "      <td>0.00</td>\n",
              "      <td>2.6</td>\n",
              "      <td>0.098</td>\n",
              "      <td>25.0</td>\n",
              "      <td>67.0</td>\n",
              "      <td>0.99680</td>\n",
              "      <td>3.20</td>\n",
              "      <td>0.68</td>\n",
              "      <td>9.8</td>\n",
              "    </tr>\n",
              "    <tr>\n",
              "      <th>2</th>\n",
              "      <td>7.8</td>\n",
              "      <td>0.760</td>\n",
              "      <td>0.04</td>\n",
              "      <td>2.3</td>\n",
              "      <td>0.092</td>\n",
              "      <td>15.0</td>\n",
              "      <td>54.0</td>\n",
              "      <td>0.99700</td>\n",
              "      <td>3.26</td>\n",
              "      <td>0.65</td>\n",
              "      <td>9.8</td>\n",
              "    </tr>\n",
              "    <tr>\n",
              "      <th>3</th>\n",
              "      <td>11.2</td>\n",
              "      <td>0.280</td>\n",
              "      <td>0.56</td>\n",
              "      <td>1.9</td>\n",
              "      <td>0.075</td>\n",
              "      <td>17.0</td>\n",
              "      <td>60.0</td>\n",
              "      <td>0.99800</td>\n",
              "      <td>3.16</td>\n",
              "      <td>0.58</td>\n",
              "      <td>9.8</td>\n",
              "    </tr>\n",
              "    <tr>\n",
              "      <th>4</th>\n",
              "      <td>7.4</td>\n",
              "      <td>0.700</td>\n",
              "      <td>0.00</td>\n",
              "      <td>1.9</td>\n",
              "      <td>0.076</td>\n",
              "      <td>11.0</td>\n",
              "      <td>34.0</td>\n",
              "      <td>0.99780</td>\n",
              "      <td>3.51</td>\n",
              "      <td>0.56</td>\n",
              "      <td>9.4</td>\n",
              "    </tr>\n",
              "    <tr>\n",
              "      <th>...</th>\n",
              "      <td>...</td>\n",
              "      <td>...</td>\n",
              "      <td>...</td>\n",
              "      <td>...</td>\n",
              "      <td>...</td>\n",
              "      <td>...</td>\n",
              "      <td>...</td>\n",
              "      <td>...</td>\n",
              "      <td>...</td>\n",
              "      <td>...</td>\n",
              "      <td>...</td>\n",
              "    </tr>\n",
              "    <tr>\n",
              "      <th>1594</th>\n",
              "      <td>6.2</td>\n",
              "      <td>0.600</td>\n",
              "      <td>0.08</td>\n",
              "      <td>2.0</td>\n",
              "      <td>0.090</td>\n",
              "      <td>32.0</td>\n",
              "      <td>44.0</td>\n",
              "      <td>0.99490</td>\n",
              "      <td>3.45</td>\n",
              "      <td>0.58</td>\n",
              "      <td>10.5</td>\n",
              "    </tr>\n",
              "    <tr>\n",
              "      <th>1595</th>\n",
              "      <td>5.9</td>\n",
              "      <td>0.550</td>\n",
              "      <td>0.10</td>\n",
              "      <td>2.2</td>\n",
              "      <td>0.062</td>\n",
              "      <td>39.0</td>\n",
              "      <td>51.0</td>\n",
              "      <td>0.99512</td>\n",
              "      <td>3.52</td>\n",
              "      <td>0.76</td>\n",
              "      <td>11.2</td>\n",
              "    </tr>\n",
              "    <tr>\n",
              "      <th>1596</th>\n",
              "      <td>6.3</td>\n",
              "      <td>0.510</td>\n",
              "      <td>0.13</td>\n",
              "      <td>2.3</td>\n",
              "      <td>0.076</td>\n",
              "      <td>29.0</td>\n",
              "      <td>40.0</td>\n",
              "      <td>0.99574</td>\n",
              "      <td>3.42</td>\n",
              "      <td>0.75</td>\n",
              "      <td>11.0</td>\n",
              "    </tr>\n",
              "    <tr>\n",
              "      <th>1597</th>\n",
              "      <td>5.9</td>\n",
              "      <td>0.645</td>\n",
              "      <td>0.12</td>\n",
              "      <td>2.0</td>\n",
              "      <td>0.075</td>\n",
              "      <td>32.0</td>\n",
              "      <td>44.0</td>\n",
              "      <td>0.99547</td>\n",
              "      <td>3.57</td>\n",
              "      <td>0.71</td>\n",
              "      <td>10.2</td>\n",
              "    </tr>\n",
              "    <tr>\n",
              "      <th>1598</th>\n",
              "      <td>6.0</td>\n",
              "      <td>0.310</td>\n",
              "      <td>0.47</td>\n",
              "      <td>3.6</td>\n",
              "      <td>0.067</td>\n",
              "      <td>18.0</td>\n",
              "      <td>42.0</td>\n",
              "      <td>0.99549</td>\n",
              "      <td>3.39</td>\n",
              "      <td>0.66</td>\n",
              "      <td>11.0</td>\n",
              "    </tr>\n",
              "  </tbody>\n",
              "</table>\n",
              "<p>1599 rows × 11 columns</p>\n",
              "</div>"
            ],
            "text/plain": [
              "      fixed acidity  volatile acidity  citric acid  ...    pH  sulphates  alcohol\n",
              "0               7.4             0.700         0.00  ...  3.51       0.56      9.4\n",
              "1               7.8             0.880         0.00  ...  3.20       0.68      9.8\n",
              "2               7.8             0.760         0.04  ...  3.26       0.65      9.8\n",
              "3              11.2             0.280         0.56  ...  3.16       0.58      9.8\n",
              "4               7.4             0.700         0.00  ...  3.51       0.56      9.4\n",
              "...             ...               ...          ...  ...   ...        ...      ...\n",
              "1594            6.2             0.600         0.08  ...  3.45       0.58     10.5\n",
              "1595            5.9             0.550         0.10  ...  3.52       0.76     11.2\n",
              "1596            6.3             0.510         0.13  ...  3.42       0.75     11.0\n",
              "1597            5.9             0.645         0.12  ...  3.57       0.71     10.2\n",
              "1598            6.0             0.310         0.47  ...  3.39       0.66     11.0\n",
              "\n",
              "[1599 rows x 11 columns]"
            ]
          },
          "metadata": {
            "tags": []
          },
          "execution_count": 10
        }
      ]
    },
    {
      "cell_type": "code",
      "metadata": {
        "colab": {
          "base_uri": "https://localhost:8080/"
        },
        "id": "B4tC26eJtnqR",
        "outputId": "c905e0c8-31f8-4eaa-fbab-ea1a3a53f258"
      },
      "source": [
        "type(X), type(y)"
      ],
      "execution_count": null,
      "outputs": [
        {
          "output_type": "execute_result",
          "data": {
            "text/plain": [
              "(pandas.core.frame.DataFrame, numpy.ndarray)"
            ]
          },
          "metadata": {
            "tags": []
          },
          "execution_count": 188
        }
      ]
    },
    {
      "cell_type": "markdown",
      "metadata": {
        "id": "6r9ykj8Ou0cj"
      },
      "source": [
        "X를 numpy 배열로 변환"
      ]
    },
    {
      "cell_type": "code",
      "metadata": {
        "colab": {
          "base_uri": "https://localhost:8080/"
        },
        "id": "eo5CpL4Mtqgi",
        "outputId": "e084a82e-cc6f-4cf3-db6d-a0be915774b1"
      },
      "source": [
        "X = X.values\n",
        "type(X)"
      ],
      "execution_count": 11,
      "outputs": [
        {
          "output_type": "execute_result",
          "data": {
            "text/plain": [
              "numpy.ndarray"
            ]
          },
          "metadata": {
            "tags": []
          },
          "execution_count": 11
        }
      ]
    },
    {
      "cell_type": "code",
      "metadata": {
        "id": "konU3scI4yug"
      },
      "source": [
        "from sklearn.model_selection import train_test_split"
      ],
      "execution_count": 12,
      "outputs": []
    },
    {
      "cell_type": "code",
      "metadata": {
        "id": "u5jZ65WE41x3"
      },
      "source": [
        "X_train, X_test, y_train, y_test = train_test_split(X,y, test_size=0.3, random_state=42)"
      ],
      "execution_count": 13,
      "outputs": []
    },
    {
      "cell_type": "code",
      "metadata": {
        "id": "MkO7w27BzcgD",
        "colab": {
          "base_uri": "https://localhost:8080/"
        },
        "outputId": "165ccbe4-8f83-42e1-ba99-fd231019524b"
      },
      "source": [
        "X_train.shape , X_test.shape"
      ],
      "execution_count": 14,
      "outputs": [
        {
          "output_type": "execute_result",
          "data": {
            "text/plain": [
              "((1119, 11), (480, 11))"
            ]
          },
          "metadata": {
            "tags": []
          },
          "execution_count": 14
        }
      ]
    },
    {
      "cell_type": "markdown",
      "metadata": {
        "id": "K2Ml7MYz9Ljm"
      },
      "source": [
        "#1) 모델 성능 평가 (Default)"
      ]
    },
    {
      "cell_type": "markdown",
      "metadata": {
        "id": "2laq2qOj9Qs9"
      },
      "source": [
        "##SVM"
      ]
    },
    {
      "cell_type": "code",
      "metadata": {
        "id": "9uXpuvV89mmy"
      },
      "source": [
        "from sklearn.svm import SVC\n",
        "from sklearn.model_selection import cross_val_score\n",
        "from sklearn.metrics import accuracy_score"
      ],
      "execution_count": 18,
      "outputs": []
    },
    {
      "cell_type": "code",
      "metadata": {
        "colab": {
          "base_uri": "https://localhost:8080/"
        },
        "id": "jshEX2MX9nlM",
        "outputId": "18f42ac3-e373-421b-985c-1d104fa0eb92"
      },
      "source": [
        "svc_clf = SVC(random_state=42)\n",
        "svc_clf.fit(X_train,y_train)"
      ],
      "execution_count": 16,
      "outputs": [
        {
          "output_type": "execute_result",
          "data": {
            "text/plain": [
              "SVC(C=1.0, break_ties=False, cache_size=200, class_weight=None, coef0=0.0,\n",
              "    decision_function_shape='ovr', degree=3, gamma='scale', kernel='rbf',\n",
              "    max_iter=-1, probability=False, random_state=42, shrinking=True, tol=0.001,\n",
              "    verbose=False)"
            ]
          },
          "metadata": {
            "tags": []
          },
          "execution_count": 16
        }
      ]
    },
    {
      "cell_type": "code",
      "metadata": {
        "colab": {
          "base_uri": "https://localhost:8080/"
        },
        "id": "XuyQf6R_9qIf",
        "outputId": "4992f91b-f00f-44b8-86ed-1b5c2a47e16f"
      },
      "source": [
        "svc_train_cv_score = cross_val_score(svc_clf, X_train, y_train, cv=10, scoring=\"accuracy\")\n",
        "svc_train_score = np.average(svc_train_cv_score) # train\n",
        "svc_train_score"
      ],
      "execution_count": 17,
      "outputs": [
        {
          "output_type": "execute_result",
          "data": {
            "text/plain": [
              "0.8659507722007722"
            ]
          },
          "metadata": {
            "tags": []
          },
          "execution_count": 17
        }
      ]
    },
    {
      "cell_type": "code",
      "metadata": {
        "colab": {
          "base_uri": "https://localhost:8080/"
        },
        "id": "i6-xORon9tr1",
        "outputId": "1dbaa180-ff84-498a-8975-ae0771ca03e8"
      },
      "source": [
        "y_pred = svc_clf.predict(X_test)\n",
        "svc_test_score = accuracy_score(y_test, y_pred)\n",
        "svc_test_score"
      ],
      "execution_count": 20,
      "outputs": [
        {
          "output_type": "execute_result",
          "data": {
            "text/plain": [
              "0.8625"
            ]
          },
          "metadata": {
            "tags": []
          },
          "execution_count": 20
        }
      ]
    },
    {
      "cell_type": "markdown",
      "metadata": {
        "id": "6CBd6ImQ-AqF"
      },
      "source": [
        "##DecisionTree"
      ]
    },
    {
      "cell_type": "code",
      "metadata": {
        "id": "fEm_i6N--C3P"
      },
      "source": [
        "from sklearn.tree import DecisionTreeClassifier"
      ],
      "execution_count": 21,
      "outputs": []
    },
    {
      "cell_type": "code",
      "metadata": {
        "colab": {
          "base_uri": "https://localhost:8080/"
        },
        "id": "IpRhJb1u-E2U",
        "outputId": "7b430b8f-8c66-435d-f8fe-31a2cd5d555e"
      },
      "source": [
        "dtc_clf = DecisionTreeClassifier(random_state=42) \n",
        "dtc_clf.fit(X_train,y_train)"
      ],
      "execution_count": 22,
      "outputs": [
        {
          "output_type": "execute_result",
          "data": {
            "text/plain": [
              "DecisionTreeClassifier(ccp_alpha=0.0, class_weight=None, criterion='gini',\n",
              "                       max_depth=None, max_features=None, max_leaf_nodes=None,\n",
              "                       min_impurity_decrease=0.0, min_impurity_split=None,\n",
              "                       min_samples_leaf=1, min_samples_split=2,\n",
              "                       min_weight_fraction_leaf=0.0, presort='deprecated',\n",
              "                       random_state=42, splitter='best')"
            ]
          },
          "metadata": {
            "tags": []
          },
          "execution_count": 22
        }
      ]
    },
    {
      "cell_type": "code",
      "metadata": {
        "colab": {
          "base_uri": "https://localhost:8080/"
        },
        "id": "nA9w2Crj-Gfy",
        "outputId": "70750877-cb48-490f-debe-787f012827ca"
      },
      "source": [
        "dt_train_cvs = cross_val_score(dtc_clf, X_train, y_train, cv=10, scoring=\"accuracy\")\n",
        "dt_train_score = np.average(dt_train_cvs)\n",
        "dt_train_score"
      ],
      "execution_count": null,
      "outputs": [
        {
          "output_type": "execute_result",
          "data": {
            "text/plain": [
              "0.8784990347490348"
            ]
          },
          "metadata": {
            "tags": []
          },
          "execution_count": 195
        }
      ]
    },
    {
      "cell_type": "code",
      "metadata": {
        "colab": {
          "base_uri": "https://localhost:8080/"
        },
        "id": "rPXwVHEy-KAT",
        "outputId": "542bd70a-ecd7-49ca-f4e6-b45221a73bea"
      },
      "source": [
        "y_pred = dtc_clf.predict(X_test)\n",
        "dtc_test_score = accuracy_score(y_test, y_pred)\n",
        "dtc_test_score"
      ],
      "execution_count": 23,
      "outputs": [
        {
          "output_type": "execute_result",
          "data": {
            "text/plain": [
              "0.8604166666666667"
            ]
          },
          "metadata": {
            "tags": []
          },
          "execution_count": 23
        }
      ]
    },
    {
      "cell_type": "markdown",
      "metadata": {
        "id": "P6jenm7upkMs"
      },
      "source": [
        "##RandomForest"
      ]
    },
    {
      "cell_type": "code",
      "metadata": {
        "id": "bcq1IiQY8D3u"
      },
      "source": [
        "from sklearn.ensemble import RandomForestClassifier"
      ],
      "execution_count": 24,
      "outputs": []
    },
    {
      "cell_type": "code",
      "metadata": {
        "colab": {
          "base_uri": "https://localhost:8080/"
        },
        "id": "F1Fpqp458laL",
        "outputId": "cf733e14-b94e-4c14-a7a9-48702f202af0"
      },
      "source": [
        "rfc_clf = RandomForestClassifier(random_state=42)\n",
        "rfc_clf.fit(X_train,y_train)"
      ],
      "execution_count": 25,
      "outputs": [
        {
          "output_type": "execute_result",
          "data": {
            "text/plain": [
              "RandomForestClassifier(bootstrap=True, ccp_alpha=0.0, class_weight=None,\n",
              "                       criterion='gini', max_depth=None, max_features='auto',\n",
              "                       max_leaf_nodes=None, max_samples=None,\n",
              "                       min_impurity_decrease=0.0, min_impurity_split=None,\n",
              "                       min_samples_leaf=1, min_samples_split=2,\n",
              "                       min_weight_fraction_leaf=0.0, n_estimators=100,\n",
              "                       n_jobs=None, oob_score=False, random_state=42, verbose=0,\n",
              "                       warm_start=False)"
            ]
          },
          "metadata": {
            "tags": []
          },
          "execution_count": 25
        }
      ]
    },
    {
      "cell_type": "code",
      "metadata": {
        "colab": {
          "base_uri": "https://localhost:8080/"
        },
        "id": "roV4116brWwV",
        "outputId": "998159bf-751f-4d0b-e7a1-1bd7d65df6de"
      },
      "source": [
        "rfc_train_cvs = cross_val_score(rfc_clf, X_train, y_train, cv=10, scoring=\"accuracy\")\n",
        "rfc_train_score = np.average(rfc_train_cvs) # accuracy average\n",
        "rfc_train_score"
      ],
      "execution_count": null,
      "outputs": [
        {
          "output_type": "execute_result",
          "data": {
            "text/plain": [
              "0.9115588803088803"
            ]
          },
          "metadata": {
            "tags": []
          },
          "execution_count": 198
        }
      ]
    },
    {
      "cell_type": "code",
      "metadata": {
        "colab": {
          "base_uri": "https://localhost:8080/"
        },
        "id": "OOuMSYEh-dat",
        "outputId": "ac22c032-7f1a-4400-dfe4-9989efc08296"
      },
      "source": [
        "y_pred = rfc_clf.predict(X_test)\n",
        "rfc_test_score = accuracy_score(y_test, y_pred)\n",
        "rfc_test_score"
      ],
      "execution_count": 26,
      "outputs": [
        {
          "output_type": "execute_result",
          "data": {
            "text/plain": [
              "0.89375"
            ]
          },
          "metadata": {
            "tags": []
          },
          "execution_count": 26
        }
      ]
    },
    {
      "cell_type": "markdown",
      "metadata": {
        "id": "f6Fp3grb-6k1"
      },
      "source": [
        "##SVM, DecisionTree, RandomForest 정확도 비교"
      ]
    },
    {
      "cell_type": "code",
      "metadata": {
        "colab": {
          "base_uri": "https://localhost:8080/",
          "height": 142
        },
        "id": "lP_h1gSC-5qu",
        "outputId": "dd5208cb-700d-44b9-a14d-637cfc23ba53"
      },
      "source": [
        "import pandas as pd\n",
        "pd.DataFrame(data = [svc_test_score, dtc_test_score, rfc_test_score], index=[\"SVC\",\"DecisionTree\",\"RandomForest\"], columns=[\"Accuracy\"])"
      ],
      "execution_count": 28,
      "outputs": [
        {
          "output_type": "execute_result",
          "data": {
            "text/html": [
              "<div>\n",
              "<style scoped>\n",
              "    .dataframe tbody tr th:only-of-type {\n",
              "        vertical-align: middle;\n",
              "    }\n",
              "\n",
              "    .dataframe tbody tr th {\n",
              "        vertical-align: top;\n",
              "    }\n",
              "\n",
              "    .dataframe thead th {\n",
              "        text-align: right;\n",
              "    }\n",
              "</style>\n",
              "<table border=\"1\" class=\"dataframe\">\n",
              "  <thead>\n",
              "    <tr style=\"text-align: right;\">\n",
              "      <th></th>\n",
              "      <th>Accuracy</th>\n",
              "    </tr>\n",
              "  </thead>\n",
              "  <tbody>\n",
              "    <tr>\n",
              "      <th>SVC</th>\n",
              "      <td>0.862500</td>\n",
              "    </tr>\n",
              "    <tr>\n",
              "      <th>DecisionTree</th>\n",
              "      <td>0.860417</td>\n",
              "    </tr>\n",
              "    <tr>\n",
              "      <th>RandomForest</th>\n",
              "      <td>0.893750</td>\n",
              "    </tr>\n",
              "  </tbody>\n",
              "</table>\n",
              "</div>"
            ],
            "text/plain": [
              "              Accuracy\n",
              "SVC           0.862500\n",
              "DecisionTree  0.860417\n",
              "RandomForest  0.893750"
            ]
          },
          "metadata": {
            "tags": []
          },
          "execution_count": 28
        }
      ]
    },
    {
      "cell_type": "markdown",
      "metadata": {
        "id": "Lq1Utbq3_Yri"
      },
      "source": [
        "#2) 가장 좋은 분류기 성능 계산"
      ]
    },
    {
      "cell_type": "markdown",
      "metadata": {
        "id": "EmIHs3DE_lRw"
      },
      "source": [
        "RandomForest 평가"
      ]
    },
    {
      "cell_type": "markdown",
      "metadata": {
        "id": "gJjzsYpXa13j"
      },
      "source": [
        "##파라미터 튜닝"
      ]
    },
    {
      "cell_type": "markdown",
      "metadata": {
        "id": "k6Pv4og_v_Xz"
      },
      "source": [
        "n_estimators (트리 수) 탐색"
      ]
    },
    {
      "cell_type": "code",
      "metadata": {
        "id": "KOn6hlRbSk7g"
      },
      "source": [
        "best_score = 0\n",
        "box_score = [] #박스플로에 사용될 array\n",
        "\n",
        "for estimators in range(1,40):\n",
        "  rfc_clf = RandomForestClassifier(n_estimators=estimators, random_state=42)\n",
        "  scores = cross_val_score(rfc_clf, X_train,y_train, cv=10)\n",
        "  box_score.append(scores)\n",
        "  score = np.mean(scores)\n",
        "  \n",
        "  if score > best_score:\n",
        "    best_score = score\n",
        "    best_estimators = estimators"
      ],
      "execution_count": 44,
      "outputs": []
    },
    {
      "cell_type": "code",
      "metadata": {
        "colab": {
          "base_uri": "https://localhost:8080/"
        },
        "id": "KbavVS3ISoSm",
        "outputId": "404cec8f-82ce-4117-8da0-8f473f4eb61b"
      },
      "source": [
        "best_score, best_estimators"
      ],
      "execution_count": 45,
      "outputs": [
        {
          "output_type": "execute_result",
          "data": {
            "text/plain": [
              "(0.9124436936936936, 25)"
            ]
          },
          "metadata": {
            "tags": []
          },
          "execution_count": 45
        }
      ]
    },
    {
      "cell_type": "markdown",
      "metadata": {
        "id": "0ixmWsFkwEUe"
      },
      "source": [
        "Best n_estimators : 25"
      ]
    },
    {
      "cell_type": "code",
      "metadata": {
        "colab": {
          "base_uri": "https://localhost:8080/"
        },
        "id": "x8xO12y0t2ZK",
        "outputId": "74282bb9-b7a6-44d8-e566-d2e433a50ab1"
      },
      "source": [
        "rfc_clf =  RandomForestClassifier(n_estimators=best_estimators, random_state=42)\n",
        "rfc_clf.fit(X_train,y_train)"
      ],
      "execution_count": 46,
      "outputs": [
        {
          "output_type": "execute_result",
          "data": {
            "text/plain": [
              "RandomForestClassifier(bootstrap=True, ccp_alpha=0.0, class_weight=None,\n",
              "                       criterion='gini', max_depth=None, max_features='auto',\n",
              "                       max_leaf_nodes=None, max_samples=None,\n",
              "                       min_impurity_decrease=0.0, min_impurity_split=None,\n",
              "                       min_samples_leaf=1, min_samples_split=2,\n",
              "                       min_weight_fraction_leaf=0.0, n_estimators=25,\n",
              "                       n_jobs=None, oob_score=False, random_state=42, verbose=0,\n",
              "                       warm_start=False)"
            ]
          },
          "metadata": {
            "tags": []
          },
          "execution_count": 46
        }
      ]
    },
    {
      "cell_type": "code",
      "metadata": {
        "colab": {
          "base_uri": "https://localhost:8080/"
        },
        "id": "uV_s4HZ_uz5K",
        "outputId": "6d8d77a1-3328-40b4-93b6-b7dd0cffa1f3"
      },
      "source": [
        "scores = cross_val_score(rfc_clf, X_train,y_train, cv=10)\n",
        "score = np.mean(scores)\n",
        "score"
      ],
      "execution_count": 47,
      "outputs": [
        {
          "output_type": "execute_result",
          "data": {
            "text/plain": [
              "0.9124436936936936"
            ]
          },
          "metadata": {
            "tags": []
          },
          "execution_count": 47
        }
      ]
    },
    {
      "cell_type": "code",
      "metadata": {
        "colab": {
          "base_uri": "https://localhost:8080/"
        },
        "id": "ZFBptDZ_CZV1",
        "outputId": "5407f91e-f1b8-4cc2-ed6e-a65b8b7c3ac1"
      },
      "source": [
        "y_pred = rfc_clf.predict(X_test)\n",
        "rfc_test_score = accuracy_score(y_test, y_pred)\n",
        "rfc_test_score"
      ],
      "execution_count": 49,
      "outputs": [
        {
          "output_type": "execute_result",
          "data": {
            "text/plain": [
              "8975833333333333"
            ]
          },
          "metadata": {
            "tags": []
          },
          "execution_count": 49
        }
      ]
    },
    {
      "cell_type": "markdown",
      "metadata": {
        "id": "Zl-4-tVqsH8A"
      },
      "source": [
        "Boxplot으로 분포 확인"
      ]
    },
    {
      "cell_type": "code",
      "metadata": {
        "id": "mw01EwO4soYk"
      },
      "source": [
        "from matplotlib import pyplot as plt"
      ],
      "execution_count": null,
      "outputs": []
    },
    {
      "cell_type": "code",
      "metadata": {
        "colab": {
          "base_uri": "https://localhost:8080/",
          "height": 418
        },
        "id": "I8v_6Fv8rA7Q",
        "outputId": "1b8c3401-9d86-428c-d79c-2dcee0e42c1e"
      },
      "source": [
        "plt.figure(figsize=(12,6))\n",
        "sns.boxplot(data=box_score)\n",
        "plt.xlabel('number of trees')\n",
        "plt.ylabel('Classification scores')\n",
        "plt.title('Classification score for number of trees')\n",
        "plt.xticks(range(0,39), labels=range(1,40), rotation=45) # X 인덱스 1부터 시작\n",
        "plt.show()"
      ],
      "execution_count": null,
      "outputs": [
        {
          "output_type": "display_data",
          "data": {
            "image/png": "[encoded data removed]",
            "text/plain": [
              "<Figure size 864x432 with 1 Axes>"
            ]
          },
          "metadata": {
            "tags": [],
            "needs_background": "light"
          }
        }
      ]
    },
    {
      "cell_type": "markdown",
      "metadata": {
        "id": "I13_UNbs4DHV"
      },
      "source": [
        "tree의 수가 많을 수록 scores가 높다는 것을 확인"
      ]
    },
    {
      "cell_type": "markdown",
      "metadata": {
        "id": "UuytzB0Ea7Ss"
      },
      "source": [
        "##ROC Curve"
      ]
    },
    {
      "cell_type": "code",
      "metadata": {
        "id": "uAlEKbdSUMKr"
      },
      "source": [
        "y_pred = rfc_clf.predict_proba(X_test)[:,1]"
      ],
      "execution_count": null,
      "outputs": []
    },
    {
      "cell_type": "code",
      "metadata": {
        "id": "Wa1eYr2zUq9G"
      },
      "source": [
        "from sklearn.metrics import roc_curve"
      ],
      "execution_count": null,
      "outputs": []
    },
    {
      "cell_type": "code",
      "metadata": {
        "id": "Q6M2puz-VZW2"
      },
      "source": [
        "from sklearn.metrics import auc"
      ],
      "execution_count": null,
      "outputs": []
    },
    {
      "cell_type": "code",
      "metadata": {
        "colab": {
          "base_uri": "https://localhost:8080/",
          "height": 302
        },
        "id": "CDPD85y1UC0k",
        "outputId": "c6ed23a8-de16-4cca-9ba6-1b1fb5620bca"
      },
      "source": [
        "fpr, tpr, thresholds = roc_curve(y_test , y_pred)\n",
        "roc_auc = auc(fpr, tpr)\n",
        "plt.title('Receiver Operating Characteristic')\n",
        "plt.plot(fpr, tpr, 'b', label =  roc_auc)\n",
        "plt.legend(loc = 'lower right')\n",
        "plt.plot([0, 1], [0, 1],'r--')\n",
        "plt.xlim([0, 1])\n",
        "plt.ylim([0, 1])\n",
        "plt.ylabel('True Positive Rate')\n",
        "plt.xlabel('False Positive Rate')\n",
        "plt.show()"
      ],
      "execution_count": null,
      "outputs": [
        {
          "output_type": "display_data",
          "data": {
            "image/png": "[encoded data removed]",
            "text/plain": [
              "<Figure size 432x288 with 1 Axes>"
            ]
          },
          "metadata": {
            "tags": [],
            "needs_background": "light"
          }
        }
      ]
    },
    {
      "cell_type": "markdown",
      "metadata": {
        "id": "hHHaWT3kbA5-"
      },
      "source": [
        "##Classification Report"
      ]
    },
    {
      "cell_type": "markdown",
      "metadata": {
        "id": "O9vMvN-CiZwF"
      },
      "source": [
        "민감도와 특이도 모두 좋은 수치를 보이고 있다."
      ]
    },
    {
      "cell_type": "code",
      "metadata": {
        "id": "hmgUwfIadpgN"
      },
      "source": [
        "from sklearn.metrics import classification_report"
      ],
      "execution_count": null,
      "outputs": []
    },
    {
      "cell_type": "code",
      "metadata": {
        "colab": {
          "base_uri": "https://localhost:8080/"
        },
        "id": "VNSUg6dKdqVC",
        "outputId": "e6b84f82-3602-4023-b2e9-ae8b19797df0"
      },
      "source": [
        "print(classification_report(y_test, rfc_clf.predict(X_test)))"
      ],
      "execution_count": null,
      "outputs": [
        {
          "output_type": "stream",
          "text": [
            "              precision    recall  f1-score   support\n",
            "\n",
            "           0       0.91      0.96      0.94       413\n",
            "           1       0.65      0.45      0.53        67\n",
            "\n",
            "    accuracy                           0.89       480\n",
            "   macro avg       0.78      0.70      0.73       480\n",
            "weighted avg       0.88      0.89      0.88       480\n",
            "\n"
          ],
          "name": "stdout"
        }
      ]
    },
    {
      "cell_type": "markdown",
      "metadata": {
        "id": "x7cMxB40bGUN"
      },
      "source": [
        "## cut-off"
      ]
    },
    {
      "cell_type": "markdown",
      "metadata": {
        "id": "lfVO6xhcBody"
      },
      "source": [
        "F1 = (2 X recall X precision) / (recall+preicision) <br>\n",
        "정밀도와 재현율이 모두 강한 분류기를 선호 F1_score <br>\n",
        "* 예측 확률을 예측으로 변환 할 때 가장 좋은 F1 Score를 위한 cut-off 탐색"
      ]
    },
    {
      "cell_type": "code",
      "metadata": {
        "id": "_eA-kt7a_iuW"
      },
      "source": [
        "def cutoff_predict(rfc_clf, X, cutoff):\n",
        "  return (rfc_clf.predict_proba(X)[:,1]> cutoff).astype(int)\n",
        "\n",
        "box_score=[]\n",
        "\n",
        "def custom_f1(cutoff):\n",
        "  def f1_cutoff(rfc_clf, X, y):\n",
        "    ypred = cutoff_predict(rfc_clf,X,cutoff)\n",
        "    return sklearn.metrics.f1_score(y,ypred)\n",
        "  \n",
        "  return f1_cutoff\n",
        "\n",
        "for cutoff in np.arange(0.1, 0.9, 0.1):\n",
        "  rfc_clf = RandomForestClassifier(n_estimators=18)\n",
        "  val = cross_val_score(rfc_clf, X, y, cv=10, scoring= custom_f1(cutoff))\n",
        "  box_score.append(val)"
      ],
      "execution_count": null,
      "outputs": []
    },
    {
      "cell_type": "code",
      "metadata": {
        "colab": {
          "base_uri": "https://localhost:8080/",
          "height": 467
        },
        "id": "DGfqGNlJCFp6",
        "outputId": "cdba3672-dbb9-4337-e7b1-e8184ea039f2"
      },
      "source": [
        "import matplotlib.ticker as mtick\n",
        "plt.figure(figsize=(12,6))\n",
        "sns.boxplot(data=box_score)\n",
        "plt.title('F scores for each tree')\n",
        "plt.xlabel('cut off value')\n",
        "plt.ylabel('custom F score')\n",
        "ax = plt.axes()\n",
        "ax.yaxis.grid()\n",
        "plt.xticks(np.arange(0,8,1), labels=(np.arange(0.1, 0.9, 0.1)))\n",
        "plt.show()"
      ],
      "execution_count": null,
      "outputs": [
        {
          "output_type": "stream",
          "text": [
            "/usr/local/lib/python3.6/dist-packages/ipykernel_launcher.py:7: MatplotlibDeprecationWarning: Adding an axes using the same arguments as a previous axes currently reuses the earlier instance.  In a future version, a new instance will always be created and returned.  Meanwhile, this warning can be suppressed, and the future behavior ensured, by passing a unique label to each axes instance.\n",
            "  import sys\n"
          ],
          "name": "stderr"
        },
        {
          "output_type": "display_data",
          "data": {
            "image/png": "[encoded data removed]",
            "text/plain": [
              "<Figure size 864x432 with 1 Axes>"
            ]
          },
          "metadata": {
            "tags": [],
            "needs_background": "light"
          }
        }
      ]
    },
    {
      "cell_type": "markdown",
      "metadata": {
        "id": "aA2X-AklHb_Q"
      },
      "source": [
        "0.3 ~ 0.5 cutoff 에서 높은 예측을 보여줌"
      ]
    },
    {
      "cell_type": "markdown",
      "metadata": {
        "id": "9zE5nYTE4L8G"
      },
      "source": [
        "보통 y>0.5 로 판단함 <br>\n",
        "최적의 cut-off 탐색"
      ]
    },
    {
      "cell_type": "code",
      "metadata": {
        "id": "_GHo5P1iwTvj"
      },
      "source": [
        "from sklearn.metrics import accuracy_score"
      ],
      "execution_count": null,
      "outputs": []
    },
    {
      "cell_type": "code",
      "metadata": {
        "colab": {
          "base_uri": "https://localhost:8080/"
        },
        "id": "scougyht5zVL",
        "outputId": "2985d560-b31a-49ba-a1f3-decc0a6562f0"
      },
      "source": [
        "y_pred = rfc_clf.predict_proba(X_test)[:,1]\n",
        "y_pred_3 = (y_pred > 0.3).astype(int)\n",
        "accuracy_score(y_test , y_pred_3)"
      ],
      "execution_count": null,
      "outputs": [
        {
          "output_type": "execute_result",
          "data": {
            "text/plain": [
              "0.8645833333333334"
            ]
          },
          "metadata": {
            "tags": []
          },
          "execution_count": 271
        }
      ]
    },
    {
      "cell_type": "code",
      "metadata": {
        "colab": {
          "base_uri": "https://localhost:8080/"
        },
        "id": "x5EZRQYPwziX",
        "outputId": "11e26705-6532-49fa-c185-95dbd42bc4b7"
      },
      "source": [
        "y_pred = rfc_clf.predict_proba(X_test)[:,1]\n",
        "y_pred_5 = (y_pred > 0.5).astype(int)\n",
        "accuracy_score(y_test , y_pred_5)"
      ],
      "execution_count": null,
      "outputs": [
        {
          "output_type": "execute_result",
          "data": {
            "text/plain": [
              "0.8854166666666666"
            ]
          },
          "metadata": {
            "tags": []
          },
          "execution_count": 275
        }
      ]
    },
    {
      "cell_type": "code",
      "metadata": {
        "colab": {
          "base_uri": "https://localhost:8080/"
        },
        "id": "NZp9C0vwCE1W",
        "outputId": "2e8d5e03-9344-404b-8c50-0d7a83e46cfd"
      },
      "source": [
        "#비교\n",
        "y_pred = rfc_clf.predict(X_test)\n",
        "accuracy_score(y_test, y_pred)"
      ],
      "execution_count": null,
      "outputs": [
        {
          "output_type": "execute_result",
          "data": {
            "text/plain": [
              "0.8854166666666666"
            ]
          },
          "metadata": {
            "tags": []
          },
          "execution_count": 276
        }
      ]
    },
    {
      "cell_type": "markdown",
      "metadata": {
        "id": "XyGfqWOlHb5T"
      },
      "source": [
        "##Confusion Matrix"
      ]
    },
    {
      "cell_type": "code",
      "metadata": {
        "id": "YCdydXfkHea9"
      },
      "source": [
        "from sklearn.model_selection import cross_val_predict\n",
        "from sklearn.metrics import confusion_matrix"
      ],
      "execution_count": null,
      "outputs": []
    },
    {
      "cell_type": "code",
      "metadata": {
        "colab": {
          "base_uri": "https://localhost:8080/"
        },
        "id": "SCXuDo1_Hk-B",
        "outputId": "67f1746b-f524-4430-a5d6-30d98e52a3e5"
      },
      "source": [
        "y_test_pred = cross_val_predict(rfc_clf, X_test, y_test, cv=10)\n",
        "conf_mx = confusion_matrix(y_test,y_test_pred)\n",
        "conf_mx"
      ],
      "execution_count": null,
      "outputs": [
        {
          "output_type": "execute_result",
          "data": {
            "text/plain": [
              "array([[403,  10],\n",
              "       [ 49,  18]])"
            ]
          },
          "metadata": {
            "tags": []
          },
          "execution_count": 222
        }
      ]
    },
    {
      "cell_type": "markdown",
      "metadata": {
        "id": "V_i2XKJiqGym"
      },
      "source": [
        "## importance"
      ]
    },
    {
      "cell_type": "code",
      "metadata": {
        "id": "FAnOTTEd8xdW"
      },
      "source": [
        "imp = rfc_clf.feature_importances_"
      ],
      "execution_count": null,
      "outputs": []
    },
    {
      "cell_type": "code",
      "metadata": {
        "colab": {
          "base_uri": "https://localhost:8080/",
          "height": 664
        },
        "id": "P75xdzVN86B6",
        "outputId": "8839b04f-93bf-4884-f583-e15b770ee60d"
      },
      "source": [
        "import matplotlib.pyplot as plt\n",
        "\n",
        "plt.barh(range(len(WQ.columns)), imp, align='center') # y에 얼마나 영향을 미치는지\n",
        "plt.yticks(range(len(WQ.columns)), WQ.columns) # 축이름"
      ],
      "execution_count": null,
      "outputs": [
        {
          "output_type": "execute_result",
          "data": {
            "text/plain": [
              "([<matplotlib.axis.YTick at 0x7fcd990b37f0>,\n",
              "  <matplotlib.axis.YTick at 0x7fcd990b36d8>,\n",
              "  <matplotlib.axis.YTick at 0x7fcd990ac208>,\n",
              "  <matplotlib.axis.YTick at 0x7fcd9906eef0>,\n",
              "  <matplotlib.axis.YTick at 0x7fcd9907d470>,\n",
              "  <matplotlib.axis.YTick at 0x7fcd9907d908>,\n",
              "  <matplotlib.axis.YTick at 0x7fcd9907dda0>,\n",
              "  <matplotlib.axis.YTick at 0x7fcd99005278>,\n",
              "  <matplotlib.axis.YTick at 0x7fcd9907d9e8>,\n",
              "  <matplotlib.axis.YTick at 0x7fcd99005240>,\n",
              "  <matplotlib.axis.YTick at 0x7fcd990059b0>],\n",
              " [Text(0, 0, 'fixed acidity'),\n",
              "  Text(0, 0, 'volatile acidity'),\n",
              "  Text(0, 0, 'citric acid'),\n",
              "  Text(0, 0, 'residual sugar'),\n",
              "  Text(0, 0, 'chlorides'),\n",
              "  Text(0, 0, 'free sulfur dioxide'),\n",
              "  Text(0, 0, 'total sulfur dioxide'),\n",
              "  Text(0, 0, 'density'),\n",
              "  Text(0, 0, 'pH'),\n",
              "  Text(0, 0, 'sulphates'),\n",
              "  Text(0, 0, 'alcohol')])"
            ]
          },
          "metadata": {
            "tags": []
          },
          "execution_count": 213
        },
        {
          "output_type": "display_data",
          "data": {
            "image/png": "[encoded data removed]",
            "text/plain": [
              "<Figure size 432x288 with 1 Axes>"
            ]
          },
          "metadata": {
            "tags": [],
            "needs_background": "light"
          }
        }
      ]
    },
    {
      "cell_type": "markdown",
      "metadata": {
        "id": "agRI8LEppLUT"
      },
      "source": [
        "alcohol, sulphates, volatile acidity, density ... 순으로 영향을 크게 미침"
      ]
    },
    {
      "cell_type": "code",
      "metadata": {
        "colab": {
          "base_uri": "https://localhost:8080/",
          "height": 286
        },
        "id": "wumjdNH0EeM9",
        "outputId": "b3b7986c-850e-4229-abc2-c1751123e357"
      },
      "source": [
        "al = sns.boxplot(x='quality', y='alcohol', data=DF)"
      ],
      "execution_count": null,
      "outputs": [
        {
          "output_type": "display_data",
          "data": {
            "image/png": "[encoded data removed]",
            "text/plain": [
              "<Figure size 432x288 with 1 Axes>"
            ]
          },
          "metadata": {
            "tags": [],
            "needs_background": "light"
          }
        }
      ]
    },
    {
      "cell_type": "code",
      "metadata": {
        "colab": {
          "base_uri": "https://localhost:8080/",
          "height": 286
        },
        "id": "oSrW4-KWJnos",
        "outputId": "b75ef1d7-cc1f-4ac2-da7b-aaf53cd9cc3d"
      },
      "source": [
        "su = sns.boxplot(x='quality', y='sulphates', data=DF)"
      ],
      "execution_count": null,
      "outputs": [
        {
          "output_type": "display_data",
          "data": {
            "image/png": "[encoded data removed]",
            "text/plain": [
              "<Figure size 432x288 with 1 Axes>"
            ]
          },
          "metadata": {
            "tags": [],
            "needs_background": "light"
          }
        }
      ]
    },
    {
      "cell_type": "code",
      "metadata": {
        "colab": {
          "base_uri": "https://localhost:8080/",
          "height": 286
        },
        "id": "Vm5lzjKaJzKt",
        "outputId": "4ad9739b-53cf-4ffe-ba19-951265841edb"
      },
      "source": [
        "vo = sns.boxplot(x='quality', y='volatile acidity', data=DF)"
      ],
      "execution_count": null,
      "outputs": [
        {
          "output_type": "display_data",
          "data": {
            "image/png": "[encoded data removed]",
            "text/plain": [
              "<Figure size 432x288 with 1 Axes>"
            ]
          },
          "metadata": {
            "tags": [],
            "needs_background": "light"
          }
        }
      ]
    },
    {
      "cell_type": "code",
      "metadata": {
        "colab": {
          "base_uri": "https://localhost:8080/",
          "height": 286
        },
        "id": "J43clfk9J3Ts",
        "outputId": "570b4d3a-2490-41e2-d940-5be63a75ec5f"
      },
      "source": [
        "de = sns.boxplot(x='quality', y='density', data=DF)"
      ],
      "execution_count": null,
      "outputs": [
        {
          "output_type": "display_data",
          "data": {
            "image/png": "[encoded data removed]",
            "text/plain": [
              "<Figure size 432x288 with 1 Axes>"
            ]
          },
          "metadata": {
            "tags": [],
            "needs_background": "light"
          }
        }
      ]
    }
  ]
}